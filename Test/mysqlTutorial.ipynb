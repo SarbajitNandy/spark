{
 "cells": [
  {
   "cell_type": "code",
   "execution_count": 4,
   "metadata": {},
   "outputs": [],
   "source": [
    "import pymysql"
   ]
  },
  {
   "cell_type": "code",
   "execution_count": 17,
   "metadata": {},
   "outputs": [
    {
     "name": "stdout",
     "output_type": "stream",
     "text": [
      "(('a47c42e7-60ef-11ec-811d-a1b4951b74c3', '8aaf9f16-6815-11ec-81ab-d53b782262b8', 1), ('a48606eb-60ef-11ec-811d-a1b4951b74c3', '8ab48116-6815-11ec-81ab-d53b782262b8', 1))\n",
      "2\n",
      "3\n"
     ]
    }
   ],
   "source": [
    "def mysqlconnect():\n",
    "    # To connect MySQL database\n",
    "    conn = pymysql.connect(\n",
    "        host='localhost',\n",
    "        user='sarbajit',\n",
    "        password = \"samirkrishna\",\n",
    "        db='test',\n",
    "        )\n",
    "\n",
    "    cur = conn.cursor()\n",
    "    cur.execute(\"select * from Matched_Records limit 2\")\n",
    "    output = cur.fetchall()\n",
    "    print(output)\n",
    "    # To close the connection\n",
    "    conn.close()\n",
    "    return output\n",
    "\n",
    "\n",
    "out = mysqlconnect()\n",
    "print(len(out))\n",
    "print(len(out[0]))"
   ]
  }
 ],
 "metadata": {
  "interpreter": {
   "hash": "a7acf4c38bcf2513b8cb734d877e501929c7062eca960ed16fb7ee116ea8ae2d"
  },
  "kernelspec": {
   "display_name": "Python 3.8.8 64-bit ('base': conda)",
   "name": "python3"
  },
  "language_info": {
   "codemirror_mode": {
    "name": "ipython",
    "version": 3
   },
   "file_extension": ".py",
   "mimetype": "text/x-python",
   "name": "python",
   "nbconvert_exporter": "python",
   "pygments_lexer": "ipython3",
   "version": "3.8.8"
  }
 },
 "nbformat": 4,
 "nbformat_minor": 2
}
