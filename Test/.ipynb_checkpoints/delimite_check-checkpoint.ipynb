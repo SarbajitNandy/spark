{
 "cells": [
  {
   "cell_type": "code",
   "execution_count": 1,
   "metadata": {},
   "outputs": [],
   "source": [
    "import findspark\n",
    "findspark.init()\n"
   ]
  },
  {
   "cell_type": "code",
   "execution_count": 2,
   "metadata": {},
   "outputs": [],
   "source": [
    "from pyspark.context import SparkContext\n",
    "from pyspark.sql import SparkSession\n",
    "sc = SparkContext.getOrCreate()\n",
    "spark = SparkSession(sc)\n"
   ]
  },
  {
   "cell_type": "code",
   "execution_count": 7,
   "metadata": {},
   "outputs": [
    {
     "name": "stdout",
     "output_type": "stream",
     "text": [
      "+--------------------+\n",
      "|               value|\n",
      "+--------------------+\n",
      "|Sarbajit, Nandy, ...|\n",
      "+--------------------+\n",
      "\n",
      "+--------+-----+----+\n",
      "|     _c0|  _c1| _c2|\n",
      "+--------+-----+----+\n",
      "|Sarbajit|Nandy|Abcd|\n",
      "+--------+-----+----+\n",
      "\n"
     ]
    }
   ],
   "source": [
    "import os\n",
    "file_path = \"../Data/imp/test.csv\"\n",
    "tempDelimiter = \", \"\n",
    "df = spark.read.format('text').option(\"delimiter\", \"\").load(file_path)\n",
    "df.show()\n",
    "delimitedRdd = df.rdd.map(lambda record : tempDelimiter.strip().join(record.value.split(tempDelimiter)))\n",
    "delimitedRdd.take(1)\n",
    "\n",
    "delimitedRdd.saveAsTextFile(\"../Data/int/test.csv\")\n",
    "\n",
    "df = spark.read.format('csv').option('delimter',tempDelimiter.strip()).load(\"../Data/int/test.csv\")\n",
    "df.show()\n",
    "\n"
   ]
  },
  {
   "cell_type": "code",
   "execution_count": 22,
   "metadata": {},
   "outputs": [
    {
     "name": "stdout",
     "output_type": "stream",
     "text": [
      "[ 45  50  90 590]\n"
     ]
    }
   ],
   "source": [
    " \n",
    "import numpy as np\n",
    "arr = np.array([90, 14, 24, 13, 13, 590, 0, 45, 16, 50])\n",
    "arr.sort()\n",
    "print(arr[-4:])"
   ]
  },
  {
   "cell_type": "code",
   "execution_count": 17,
   "metadata": {},
   "outputs": [
    {
     "name": "stdout",
     "output_type": "stream",
     "text": [
      "54\n"
     ]
    }
   ],
   "source": [
    " \n",
    "arr = np.array([10,55,22,3,6,44,9,54])\n",
    "nearest_to = 50\n",
    " \n",
    "print(arr[abs(arr-nearest_to).argmin()])"
   ]
  },
  {
   "cell_type": "code",
   "execution_count": 32,
   "metadata": {},
   "outputs": [
    {
     "name": "stdout",
     "output_type": "stream",
     "text": [
      "(array([0, 0, 1]), array([1, 2, 2]))\n"
     ]
    },
    {
     "data": {
      "text/plain": [
       "array([[30, 15, 19],\n",
       "       [32, 40, 16],\n",
       "       [38, 33, 50]])"
      ]
     },
     "execution_count": 32,
     "metadata": {},
     "output_type": "execute_result"
    }
   ],
   "source": [
    " \n",
    "import numpy as np\n",
    "mat = np.array([[10,5,9],\n",
    "                [2,20,6],\n",
    "                [8,3,30]]).reshape(3,3)\n",
    " \n",
    "# minD = mat.max(0)\n",
    "# print(np.triu_indices(3,1))\n",
    "# mat = mat + np.triu_indices(3,3)+minD[0]\n",
    "# mat = mat + np.triu_indices(3,-3)+minD[0]\n",
    "# mat = mat + np.triu_indices(3,3)+minD[0]\n",
    "Max = np.max(mat,1) \n",
    "N1 = Max[0] \n",
    "N2 = Max[1] \n",
    "N3 = Max[2] \n",
    "upper = np.triu_indices(3,1) \n",
    "mat[upper]+=N1 \n",
    "lower = np.tril_indices(3,-1) \n",
    "mat[lower]+=N3 \n",
    "diagg = np.diag_indices(3) \n",
    "mat[diagg]+=N2 \n",
    "mat\n"
   ]
  },
  {
   "cell_type": "code",
   "execution_count": 12,
   "metadata": {},
   "outputs": [
    {
     "name": "stdout",
     "output_type": "stream",
     "text": [
      "100\n"
     ]
    }
   ],
   "source": [
    "import os.path\n",
    "from skimage.io import imread\n",
    "from skimage import data_dir\n",
    "img = imread(os.path.join(data_dir, 'checker_bilevel.png'))\n",
    "print(img.nbytes)\n"
   ]
  },
  {
   "cell_type": "code",
   "execution_count": 15,
   "metadata": {},
   "outputs": [
    {
     "name": "stdout",
     "output_type": "stream",
     "text": [
      "(6, 10)\n"
     ]
    }
   ],
   "source": [
    "img_cmp = img.compress([True,False,True,0,1,1,1,0,0,1],axis = 0)\n",
    "print(img_cmp.shape)"
   ]
  },
  {
   "cell_type": "code",
   "execution_count": 3,
   "metadata": {},
   "outputs": [
    {
     "data": {
      "text/plain": [
       "<matplotlib.image.AxesImage at 0x7f0ad0dd3790>"
      ]
     },
     "execution_count": 3,
     "metadata": {},
     "output_type": "execute_result"
    },
    {
     "data": {
      "image/png": "[encoded data removed]",
      "text/plain": [
       "<Figure size 432x288 with 1 Axes>"
      ]
     },
     "metadata": {
      "needs_background": "light"
     },
     "output_type": "display_data"
    }
   ],
   "source": [
    "import os.path\n",
    "from skimage.io import imread\n",
    "from skimage import data_dir\n",
    "import  matplotlib.pyplot as plt\n",
    "img = imread(os.path.join(data_dir, 'phantom.png'))\n",
    "\n",
    "plt.imshow(img)"
   ]
  },
  {
   "cell_type": "code",
   "execution_count": 9,
   "metadata": {},
   "outputs": [
    {
     "data": {
      "text/plain": [
       "<matplotlib.image.AxesImage at 0x7f0ad0ce5430>"
      ]
     },
     "execution_count": 9,
     "metadata": {},
     "output_type": "execute_result"
    },
    {
     "data": {
      "image/png": "[encoded data removed]",
      "text/plain": [
       "<Figure size 432x288 with 1 Axes>"
      ]
     },
     "metadata": {
      "needs_background": "light"
     },
     "output_type": "display_data"
    }
   ],
   "source": [
    "newImg = img.copy()\n",
    "\n",
    "newImg[img>0.15]=255\n",
    "newImg[img<=0.15]=0\n",
    "\n",
    "plt.imshow(newImg)"
   ]
  },
  {
   "cell_type": "code",
   "execution_count": 11,
   "metadata": {},
   "outputs": [
    {
     "data": {
      "text/plain": [
       "<matplotlib.image.AxesImage at 0x7f0ad0915160>"
      ]
     },
     "execution_count": 11,
     "metadata": {},
     "output_type": "execute_result"
    },
    {
     "data": {
      "image/png": "[encoded data removed]",
      "text/plain": [
       "<Figure size 432x288 with 1 Axes>"
      ]
     },
     "metadata": {
      "needs_background": "light"
     },
     "output_type": "display_data"
    }
   ],
   "source": [
    "import numpy as np\n",
    "flpImg = np.fliplr(newImg)\n",
    "plt.imshow(flpImg)"
   ]
  },
  {
   "cell_type": "code",
   "execution_count": 25,
   "metadata": {},
   "outputs": [
    {
     "name": "stdout",
     "output_type": "stream",
     "text": [
      "(1, 1, 3)\n"
     ]
    },
    {
     "data": {
      "text/plain": [
       "<matplotlib.image.AxesImage at 0x7f0ad0345ca0>"
      ]
     },
     "execution_count": 25,
     "metadata": {},
     "output_type": "execute_result"
    },
    {
     "data": {
      "image/png": "[encoded data removed]",
      "text/plain": [
       "<Figure size 432x288 with 1 Axes>"
      ]
     },
     "metadata": {
      "needs_background": "light"
     },
     "output_type": "display_data"
    }
   ],
   "source": [
    "cmpImg = np.compress([ i%2==0 for i in range(cmpImg.shape[1])], cmpImg, 0)\n",
    "cmpImg = np.compress([ i%2==0 for i in range(cmpImg.shape[1])], cmpImg, 1)\n",
    "print(cmpImg.shape)\n",
    "plt.imshow(cmpImg)"
   ]
  }
 ],
 "metadata": {
  "interpreter": {
   "hash": "b61898a79947ac66558edacc18b76b0b8053dee70fb4677026e050cd4867134d"
  },
  "kernelspec": {
   "display_name": "Python 3",
   "language": "python",
   "name": "python3"
  },
  "language_info": {
   "codemirror_mode": {
    "name": "ipython",
    "version": 3
   },
   "file_extension": ".py",
   "mimetype": "text/x-python",
   "name": "python",
   "nbconvert_exporter": "python",
   "pygments_lexer": "ipython3",
   "version": "3.8.8"
  }
 },
 "nbformat": 4,
 "nbformat_minor": 4
}
