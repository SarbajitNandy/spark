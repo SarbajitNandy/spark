{
 "cells": [
  {
   "cell_type": "code",
   "execution_count": 18,
   "metadata": {},
   "outputs": [],
   "source": [
    "# import os,sys\n",
    "# import findspark \n",
    "# findspark.init()\n",
    "\n",
    "# from pyspark.context import SparkContext\n",
    "# from pyspark.sql import SparkSession\n",
    "# # sc = SparkContext(master=\"local\", appName=\"test\")\n",
    "# sc = SparkContext.getOrCreate()\n",
    "# spark = SparkSession(sc)\n",
    "\n",
    "from settings import * "
   ]
  },
  {
   "cell_type": "code",
   "execution_count": 26,
   "metadata": {},
   "outputs": [],
   "source": [
    "\"\"\" Slash handler\n",
    "\"\"\"\n",
    "def handlerForSlashAdded(df,delimiter,outfilepath,spark):\n",
    "    print(\"handle slash function\")\n",
    "    print(outfilepath)\n",
    "    print(\"before processing\")\n",
    "    df.show()\n",
    "    dfOut = df.rdd.map(lambda record : getSlashAdded(record.value, delimiter))\n",
    "#     dfOut.collect()\n",
    "    dfOut.saveAsTextFile(outfilepath)\n",
    "    dfOut = spark.read.format('text').option('delimiter',delimiter).option('mode',\"FAILFAST\").load(outfilepath)\n",
    "    return dfOut\n",
    "\n",
    "def getSlashAdded(row, delimter):\n",
    "    rowList = []\n",
    "    print(\"row data \", row)\n",
    "    for col in row.split(delimter):\n",
    "        ch = col\n",
    "        slist = list(col)\n",
    "\n",
    "        for idx, st in enumerate(slist):\n",
    "            if slist[idx]=='\"' and 0<idx<len(slist)-1:\n",
    "                slist[idx]='\\\\\"'\n",
    "            if slist[idx]=='\\\\' and len(slist)-3<=idx<len(slist)-1:\n",
    "                slist[idx]='\\\\\\\\'  # in -> '\\' ouyt -> '\\\\'\n",
    "            \n",
    "#         print(slist)\n",
    "        newCol = ''.join(slist)\n",
    "#         print(ch,col)\n",
    "        rowList.append(newCol)\n",
    "    newValue = delimter.join(rowList)\n",
    "#     print(newValue)\n",
    "    return newValue"
   ]
  },
  {
   "cell_type": "code",
   "execution_count": 31,
   "metadata": {},
   "outputs": [
    {
     "name": "stdout",
     "output_type": "stream",
     "text": [
      "+--------------------+\n",
      "|               value|\n",
      "+--------------------+\n",
      "|\"Sarbajit\"|\"22, \"...|\n",
      "+--------------------+\n",
      "\n"
     ]
    }
   ],
   "source": [
    "df = spark.read.format('text').option('delimiter','').option('mode',\"FAILFAST\").option('header','false').load(os.path.join(DATA_DIR, \"test.csv\"))\n",
    "\n",
    "df.show()"
   ]
  },
  {
   "cell_type": "code",
   "execution_count": 32,
   "metadata": {},
   "outputs": [
    {
     "name": "stdout",
     "output_type": "stream",
     "text": [
      "/home/sarbajit/Documents/Programs/spark/Data/data_out.txt\n",
      "handle slash function\n",
      "/home/sarbajit/Documents/Programs/spark/Data/test_out.txt\n",
      "before processing\n",
      "+--------------------+\n",
      "|               value|\n",
      "+--------------------+\n",
      "|\"Sarbajit\"|\"22, \"...|\n",
      "+--------------------+\n",
      "\n",
      "after run \n",
      "+--------------------+\n",
      "|               value|\n",
      "+--------------------+\n",
      "|\"Sarbajit\"|\"22, \\...|\n",
      "+--------------------+\n",
      "\n"
     ]
    }
   ],
   "source": [
    "# print(\"test script\")\n",
    "tempfilepath = os.path.join(DATA_DIR, 'test_out.txt')\n",
    "outfilepath = os.path.join(DATA_DIR, 'data_out.txt')\n",
    "print(outfilepath)\n",
    "dfOut= handlerForSlashAdded(df, '|', tempfilepath, spark)\n",
    "print(\"after run \")\n",
    "dfOut.show()\n",
    "dfOut.write.mode(\"Overwrite\").format('text').option('sep',\"|\").save(outfilepath)"
   ]
  },
  {
   "cell_type": "code",
   "execution_count": 17,
   "metadata": {},
   "outputs": [
    {
     "data": {
      "text/plain": [
       "['\"Sarbajit\"|\"Na\\\\\\\\\"\\\\\\\\\"ndy\"', '\"Krishna\"|\"Nandy\"']"
      ]
     },
     "execution_count": 17,
     "metadata": {},
     "output_type": "execute_result"
    }
   ],
   "source": [
    "# dfOut2 = dfOut.map(lambda val : getSlashAdded(val._c0,\"|\"))\n",
    "# dfOut2.collect()\n",
    "\n",
    "# dfOut = df.rdd.map(lambda val : getSlashAdded(val.value,'|'))\n",
    "# # df.rdd.collect()\n",
    "# # df.show()\n",
    "\n",
    "# dfOut.collect()"
   ]
  },
  {
   "cell_type": "code",
   "execution_count": 25,
   "metadata": {},
   "outputs": [
    {
     "name": "stdout",
     "output_type": "stream",
     "text": [
      "row data  \"Sarbajit\"|\"22, \"\"Kali temple\"\", \"\"2nd bye\\ Lane\"\"\"\n"
     ]
    },
    {
     "data": {
      "text/plain": [
       "'\"Sarbajit\"|\"22, \\\\\"\\\\\"Kali temple\\\\\"\\\\\", \\\\\"\\\\\"2nd bye\\\\ Lane\\\\\"\\\\\"\"'"
      ]
     },
     "execution_count": 25,
     "metadata": {},
     "output_type": "execute_result"
    }
   ],
   "source": [
    "# getSlashAdded('\"Sarbajit\"|\"22, \"\"Kali temple\"\", \"\"2nd bye\\ Lane\"\"\"', '|')\n",
    "# print('\"Sarbajit\"|\"22, \\\\\"\\\\\"Kali temple\\\\\"\\\\\", \\\\\"\\\\\"2nd bye\\\\ Lane\\\\\"\\\\\"\"')"
   ]
  },
  {
   "cell_type": "code",
   "execution_count": 16,
   "metadata": {},
   "outputs": [],
   "source": [
    "# spark.version\n",
    "spark.stop()"
   ]
  }
 ],
 "metadata": {
  "interpreter": {
   "hash": "b61898a79947ac66558edacc18b76b0b8053dee70fb4677026e050cd4867134d"
  },
  "kernelspec": {
   "display_name": "Python 3",
   "language": "python",
   "name": "python3"
  },
  "language_info": {
   "codemirror_mode": {
    "name": "ipython",
    "version": 3
   },
   "file_extension": ".py",
   "mimetype": "text/x-python",
   "name": "python",
   "nbconvert_exporter": "python",
   "pygments_lexer": "ipython3",
   "version": "3.8.8"
  }
 },
 "nbformat": 4,
 "nbformat_minor": 2
}
